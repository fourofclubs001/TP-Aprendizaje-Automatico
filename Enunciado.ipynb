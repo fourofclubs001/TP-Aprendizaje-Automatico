{
 "cells": [
  {
   "cell_type": "markdown",
   "metadata": {},
   "source": [
    "[![Open In Colab](https://colab.research.google.com/assets/colab-badge.svg)](https://colab.research.google.com/github/aprendizaje-automatico-dc-uba-ar/material/blob/main/tp/01_aprendizaje_supervisado/Enunciado.ipynb)\n",
    "\n",
    "# Trabajo Práctico -  Aprendizaje supervisado\n",
    "### Clasificación de expresiones genómicas\n",
    "\n",
    "<span style=\"color: red;\">**Fecha de entrega: Martes 08 de octubre del 2024 - hasta las 23:55hs.**\n",
    "\n",
    "<span style=\"color: red;\">**Fecha de entrega intermedia: Martes 01 de octubre del 2024 - hasta las 23:55hs.**\n",
    "</span>\n",
    "\n",
    "## Introducción\n",
    "\n",
    "En el mundo actual, distintas disciplinas científicas empiezan, cada vez más, a interactuar con el fin de potenciar sus descubrimientos. En este caso dos grupos de investigación de [CONICET](https://www.conicet.gov.ar/) se embarcan en la combinación entre biología y informática para abordar la detección temprana y el pronóstico preciso de enfermedades como el cáncer. Este proyecto combina las tecnologías de secuenciación de nueva generación ([_NGS_](https://es.wikipedia.org/wiki/Secuenciaci%C3%B3n_paralela_masiva), por sus siglas en inglés) con la potencia de la inteligencia artificial. El enfoque se centra en un dataset único que abarca mediciones de [_ARN_](https://es.wikipedia.org/wiki/ARN_mensajero) de 200 [_genes_](https://es.wikipedia.org/wiki/Gen), recopiladas de pacientes con lesiones [_pre-tumorales_](https://en.wikipedia.org/wiki/Hyperplasia). Este conjunto de datos se convierte en una valiosa fuente de información para entender cómo las células en estado de hiperplasia pueden evolucionar hacia [_tumores malignos_](https://en.wikipedia.org/wiki/Neoplasm), una transformación que ha desconcertado a la ciencia durante décadas.\n",
    "\n",
    "La hiperplasia, es un fenómeno en el que las células experimentan un crecimiento anormal y descontrolado, es un punto de partida crucial en nuestro análisis. ¿Cómo y por qué algunas células que experimentan hiperplasia se convierten en células cancerosas, mientras que otras no? Esta pregunta es el corazón de nuestra investigación. Para responderla se realizo un estudio donde se obtuvieron muestras de distintos tipos de hiperplasias de pacientes con antecedentes familiares y lesiones pre tumorales. Este grupo de pacientes, o cohorte, fue monitoreado periodicamente durante los siguientes 5 años buscando indicios de neoplasias o nuevas hiperplasias más agresivas. Con las muestras obtenidas en este estudio se realizo un [_biobanco_](https://en.wikipedia.org/wiki/Biobank) con las mediciones que habitualmente se hacen en la construccion de este tipo de [_plataformas_](https://xena.ucsc.edu/). Cada muestra fue etiquetada como **_buen pronostico_**, si no hubo indicios de nuevas hiperplasias o similares; contrariamente se etiquetaron como de **_mal pronostico_** si hubo una recaida.\n",
    "\n",
    "Este trabajo se concentra en un panel de genes, especificamente en la expresion de 200 genes que se creen tienen un papel crucial en la transformacion tumoral y su etiqueta correspondiente.\n",
    "\n",
    "En concreto:\n",
    "\n",
    "Tendrán un archivo `.csv` en donde se almacenan:\n",
    "  - una matriz de datos `X` de $500$ filas en donde cada fila $x^{(i)}$ representa un vector de $200$ características de cada instancia. Es decir, $\\textbf{x}^{(i)} = x_1^{(i)}, \\dots, x_{200}^{(i)}$ con $i$ entre $1$ y $500$.\n",
    "  - una columna llamada `target` que representa un vector de $500$ posiciones con dos posibles valores: `True` (ó 1, es decir, tiene mal pronostico) y `False` (ó 0, tiene buen pronostico).\n",
    "\n",
    "Los datos están en esta [carpeta](https://github.com/aprendizaje-automatico-dc-uba-ar/material/tree/main/tp/01_aprendizaje_supervisado/datos).\n",
    "\n",
    "Por otra parte, tendrán disponibles un conjunto de instancias sin etiquetas, que utilizaremos para comprobar la calidad de sus resultados (ver Ejercicio 5). \n",
    "\n",
    "**Recomendamos fuertemente leer primero todo el enunciado del trabajo antes de empezar a trabajar sobre el problema propuesto.**\n",
    "\n",
    "---\n",
    "\n",
    "### Sobre el informe\n",
    "\n",
    "Para este trabajo deberán entregar, además del código de las pruebas y experimentos que realicen, un informe en el que deberan seleccionar, para cada apartado, sus resultados acompañado de un texto que explique, reflexione, justifique y conluya dicho contenido. \n",
    "\n",
    "Cada ejercicio indica el largo máximo del texto que se puede incluir. Los gráficos no están contados en dicho espacio. \n",
    "Cada gráfico incluido debe contar con:\n",
    "  \n",
    "  - nombres de los ejes,\n",
    "  - título,\n",
    "  - leyenda autocontenida,\n",
    "  - debe ser referenciado desde el texto, ya que su inclusión se da porque aporta a la discusión del trabajo.\n",
    "\n",
    "**El informe no puede superar un máximo de 8 carillas (contando gráficos) o 4 hojas más carátula.** No se corregirán trabajos que no cumplan con esta consigna.\n",
    "\n",
    "---"
   ]
  },
  {
   "cell_type": "markdown",
   "metadata": {},
   "source": [
    "## Ejercicio 1 \n",
    "\n",
    "### Separación de datos\n",
    "\n",
    "Contarán con una cantidad limitada de datos, por lo cual es importante tomar una buena decisión en el momento de empezar a utilizarlos. \n",
    "\n",
    "Evaluar y justificar cómo separarán sus datos para desarrollo y para evaluación. ¿Qué consideraciones tuvieron en cuenta para realizar esta división?\n",
    "\n",
    "**Importante**: en este punto no está permitido dividir la base de datos utilizando la función `train_test_split` de sklearn. Deben decidir e implementar la separación."
   ]
  },
  {
   "cell_type": "code",
   "execution_count": 1,
   "metadata": {},
   "outputs": [],
   "source": [
    "#!pip install seaborn\n",
    "#!pip install pandas\n",
    "#!pip install matplotlib\n",
    "#!pip install numpy"
   ]
  },
  {
   "cell_type": "code",
   "execution_count": 2,
   "metadata": {},
   "outputs": [],
   "source": [
    "import numpy as np\n",
    "import pandas as pd\n",
    "import matplotlib.pyplot as plt\n",
    "import seaborn as sns\n",
    "import math\n",
    "from typing import Tuple, List"
   ]
  },
  {
   "cell_type": "code",
   "execution_count": 3,
   "metadata": {},
   "outputs": [],
   "source": [
    "df = pd.read_csv(\"data.csv\")"
   ]
  },
  {
   "cell_type": "markdown",
   "metadata": {},
   "source": [
    "En primer lugar vamos a ver la distribucion de las etiquetas y asegurar que los datos de desarrollo y evaluacion tengan las mismas proporciones"
   ]
  },
  {
   "cell_type": "code",
   "execution_count": 4,
   "metadata": {},
   "outputs": [
    {
     "name": "stdout",
     "output_type": "stream",
     "text": [
      "Cantidad de instancias positivas: 128 \tProporcion: 0.256\n",
      "Cantidad de instancias negativas: 372 \tProporcion: 0.744\n"
     ]
    },
    {
     "data": {
      "image/png": "[encoded data removed]",
      "text/plain": [
       "<Figure size 640x480 with 1 Axes>"
      ]
     },
     "metadata": {},
     "output_type": "display_data"
    }
   ],
   "source": [
    "n_negativos = df[df[\"target\"] == 0].shape[0]\n",
    "n_positivos = df[df[\"target\"] == 1].shape[0]\n",
    "total = 500\n",
    "print(f\"Cantidad de instancias positivas: {n_positivos} \\tProporcion: {n_positivos/total}\")\n",
    "print(f\"Cantidad de instancias negativas: {n_negativos} \\tProporcion: {n_negativos/total}\")\n",
    "plt.title(\"Distribucion total\")\n",
    "sns.countplot(x=df[\"target\"])\n",
    "plt.show()\n"
   ]
  },
  {
   "cell_type": "markdown",
   "metadata": {},
   "source": [
    "Como la distribucion de instancias positivas y negativas estan desbalanceadas, vamos a divir en desarrollo y evaluacion de manera estratificada, para matener dicha proporcion."
   ]
  },
  {
   "cell_type": "code",
   "execution_count": 5,
   "metadata": {},
   "outputs": [],
   "source": [
    "def crear_mascara(largo: int, proporcion: float, random_generator: np.random.Generator)->np.ndarray:\n",
    "\n",
    "    n_selec = round(largo*proporcion)\n",
    "    mascara = np.append(np.ones(n_selec, dtype = int), \n",
    "                        np.zeros(largo - n_selec, dtype = int)) == 1\n",
    "    \n",
    "    random_generator.shuffle(mascara)\n",
    "\n",
    "    return mascara\n",
    "\n",
    "def filtrar_unir_mezclar(df_negativos: pd.DataFrame, mascara_negativos: np.ndarray, \n",
    "                   df_positivos: pd.DataFrame, mascara_positivos: np.ndarray,\n",
    "                   random_generator: np.random.Generator):\n",
    "\n",
    "    # Filtra las instacias\n",
    "    df_negativos = df_negativos[mascara_negativos]\n",
    "    df_positivos = df_positivos[mascara_positivos]\n",
    "\n",
    "    # Unir las instancias\n",
    "    df = pd.concat([df_negativos, df_positivos])\n",
    "\n",
    "    # Mezclas las instacias y asignar nuevos indices\n",
    "    df = df.sample(frac=1, random_state=random_generator).reset_index(drop=True)\n",
    "\n",
    "    return df"
   ]
  },
  {
   "cell_type": "code",
   "execution_count": 6,
   "metadata": {},
   "outputs": [],
   "source": [
    "def corte_desarrollo_evaluacion_estratificada(df: pd.DataFrame, proporcion_desarrollo, seed)->Tuple[pd.DataFrame, pd.DataFrame]:\n",
    "\n",
    "    # random generator\n",
    "    random_generator = np.random.default_rng(seed)\n",
    "\n",
    "    # Separa entre instancias negativas y positivas\n",
    "    df_negativos = df[df[\"target\"] == 0]\n",
    "    df_positivos = df[df[\"target\"] == 1]\n",
    "    \n",
    "    # Calcula la cantidad de instacias negativas y positivas\n",
    "    n_negativos = df_negativos.shape[0]\n",
    "    n_positivos = df_positivos.shape[0]\n",
    "\n",
    "    # Crear mascaras\n",
    "    mascara_negativos_desarrollo = crear_mascara(n_negativos, proporcion_desarrollo, random_generator)\n",
    "    mascara_positivos_desarrollo = crear_mascara(n_positivos, proporcion_desarrollo, random_generator)\n",
    "    mascara_negativos_evaluacion = mascara_negativos_desarrollo == False\n",
    "    mascara_positivos_evaluacion = mascara_positivos_desarrollo == False\n",
    "\n",
    "    # Crear datasets\n",
    "    df_desarrollo = filtrar_unir_mezclar(df_negativos, mascara_negativos_desarrollo, \n",
    "                                         df_positivos, mascara_positivos_desarrollo,\n",
    "                                         random_generator)\n",
    "\n",
    "    df_evaluacion = filtrar_unir_mezclar(df_negativos, mascara_negativos_evaluacion, \n",
    "                                         df_positivos, mascara_positivos_evaluacion,\n",
    "                                         random_generator)\n",
    "    \n",
    "    X_desarrollo = df_desarrollo.drop(columns=['target'])\n",
    "    y_desarrollo = df_desarrollo['target']\n",
    "    X_evaluacion = df_evaluacion.drop(columns=['target'])\n",
    "    y_evaluacion = df_evaluacion['target']\n",
    "\n",
    "    return X_desarrollo, y_desarrollo, X_evaluacion, y_evaluacion\n",
    "\n",
    "X_desarrollo, y_desarrollo, X_evaluacion, y_evaluacion = corte_desarrollo_evaluacion_estratificada(df, 0.8, 24)"
   ]
  },
  {
   "cell_type": "markdown",
   "metadata": {},
   "source": [
    "Ploteamos la distribución resultantes de instancias positivas y negativas del dataset de desarrollo y de evaluación resultante para corroborar que son iguales y que se corresponden con la distribución del dataset original"
   ]
  },
  {
   "cell_type": "code",
   "execution_count": 7,
   "metadata": {},
   "outputs": [
    {
     "data": {
      "image/png": "[encoded data removed]",
      "text/plain": [
       "<Figure size 640x480 with 2 Axes>"
      ]
     },
     "metadata": {},
     "output_type": "display_data"
    }
   ],
   "source": [
    "figure, axis = plt.subplots(1, 2)\n",
    "sns.countplot(x=y_desarrollo,ax=axis[0])\n",
    "axis[0].set_title(\"Distribucion desarrollo\")\n",
    "\n",
    "sns.countplot(x=y_desarrollo,ax=axis[1])\n",
    "axis[1].set_title(\"Distribucion evaluación\")\n",
    "plt.show()"
   ]
  },
  {
   "cell_type": "markdown",
   "metadata": {},
   "source": [
    "## Ejercicio 2\n",
    "\n",
    "\n",
    "### Construcción de modelos\n",
    "\n",
    "Para este punto, la tarea consiste en construir y evaluar modelos de tipo **árbol de decisión**. Además, obtener una **estimación realista de la performance** de los mismos.\n",
    "\n",
    "1. Entrenar un árbol de decisión con altura máxima 3 y el resto de los hiperparámetros en default.\n",
    "\n",
    "1. Estimar la performance del modelo utilizando _K-fold cross validation_ con `K=5`, con las métricas _Accuracy_, _Area Under the Precision-Recall Curve (AUPRC)_, y _Area Under the Receiver Operating Characteristic Curve (AUCROC)_. \n",
    "\n",
    "   En esta oportunidad se va a pedir además de calcular las métricas para cada fold por separado y su promedio, que hagan el cálculo del score global (como vimos en clase), sólo para los folds de validación.\n",
    "   \n",
    "   Reportar el resultado en una tabla similar a:\n",
    "\n",
    "      <table>\n",
    "      <thead>\n",
    "      <tr>\n",
    "      <th align=\"center\">Permutación</th>\n",
    "      <th>Accuracy (training)</th>\n",
    "      <th>Accuracy (validación)</th>\n",
    "      <th>AUPRC (training)</th>\n",
    "      <th>AUPRC (validación)</th>\n",
    "      <th>AUC ROC (training)</th>\n",
    "      <th>AUC ROC (validación)</th>\n",
    "      </tr>\n",
    "      </thead>\n",
    "      <tbody>\n",
    "      <tr>\n",
    "      <td align=\"center\">1</td>\n",
    "      <td></td>\n",
    "      <td></td>\n",
    "      <td></td>\n",
    "      <td></td>\n",
    "      <td></td>\n",
    "      <td></td>\n",
    "      </tr>\n",
    "      <tr>\n",
    "      <td align=\"center\">2</td>\n",
    "      <td></td>\n",
    "      <td></td>\n",
    "      <td></td>\n",
    "      <td></td>\n",
    "      <td></td>\n",
    "      <td></td>\n",
    "      </tr>\n",
    "      <tr>\n",
    "      <td align=\"center\">3</td>\n",
    "      <td></td>\n",
    "      <td></td>\n",
    "      <td></td>\n",
    "      <td></td>\n",
    "      <td></td>\n",
    "      <td></td>\n",
    "      </tr>\n",
    "      <tr>\n",
    "      <td align=\"center\">4</td>\n",
    "      <td></td>\n",
    "      <td></td>\n",
    "      <td></td>\n",
    "      <td></td>\n",
    "      <td></td>\n",
    "      <td></td>\n",
    "      </tr>\n",
    "      <tr>\n",
    "      <td align=\"center\">5</td>\n",
    "      <td></td>\n",
    "      <td></td>\n",
    "      <td></td>\n",
    "      <td></td>\n",
    "      <td></td>\n",
    "      <td></td>\n",
    "      </tr>\n",
    "      <tr>\n",
    "      <td align=\"center\">Promedios</td>\n",
    "      <td></td>\n",
    "      <td></td>\n",
    "      <td></td>\n",
    "      <td></td>\n",
    "      <td></td>\n",
    "      <td></td>\n",
    "      </tr>\n",
    "      <td align=\"center\">Global</td>\n",
    "      <td>(NO) </td>\n",
    "      <td></td>\n",
    "      <td>(NO) </td>\n",
    "      <td></td>\n",
    "      <td>(NO) </td>\n",
    "      <td></td>\n",
    "      </tr>\n",
    "      </tbody>\n",
    "      </table>    \n",
    "  \n",
    "   **Importante**: de acá en más sólamente utilizaremos el score promedio cuando hagamos _K-fold cross-validation_.\n",
    " \n",
    "1. Explorar las siguientes combinaciones de parámetros para  árboles de decisión (siguiendo con $k-fold$ con $k=5$) utilizando [ParameterGrid](https://scikit-learn.org/stable/modules/generated/sklearn.model_selection.ParameterGrid.html) de _scikit learn_. No está permitido utilizar `GridSearchCV` en este ejercicio.\n",
    "\n",
    "   <table>\n",
    "   <thead>\n",
    "   <tr>\n",
    "   <th align=\"center\">Altura máxima</th>\n",
    "   <th align=\"center\">Criterio de corte</th>\n",
    "   <th>Accuracy (training)</th>\n",
    "   <th>Accuracy (validación)</th>\n",
    "   </tr>\n",
    "   </thead>\n",
    "   <tbody><tr>\n",
    "   <td align=\"center\">3</td>\n",
    "   <td align=\"center\">Gini</td>\n",
    "   <td></td>\n",
    "   <td></td>\n",
    "   </tr>\n",
    "   <tr>\n",
    "   <td align=\"center\">5</td>\n",
    "   <td align=\"center\">Gini</td>\n",
    "   <td></td>\n",
    "   <td></td>\n",
    "   </tr>\n",
    "   <tr>\n",
    "   <td align=\"center\">Infinito</td>\n",
    "   <td align=\"center\">Gini</td>\n",
    "   <td></td>\n",
    "   <td></td>\n",
    "   </tr>\n",
    "   <tr>\n",
    "   <td align=\"center\">3</td>\n",
    "   <td align=\"center\">Entropía</td>\n",
    "   <td></td>\n",
    "   <td></td>\n",
    "   </tr>\n",
    "   <tr>\n",
    "   <td align=\"center\">5</td>\n",
    "   <td align=\"center\">Entropía</td>\n",
    "   <td></td>\n",
    "   <td></td>\n",
    "   </tr>\n",
    "   <tr>\n",
    "   <td align=\"center\">Infinito</td>\n",
    "   <td align=\"center\">Entropía</td>\n",
    "   <td></td>\n",
    "   <td></td>\n",
    "   </tr>\n",
    "   </tbody></table>\n",
    "\n",
    "1. ¿Qué conclusiones se pueden sacar de estas tablas?  "
   ]
  },
  {
   "cell_type": "code",
   "execution_count": 9,
   "metadata": {},
   "outputs": [],
   "source": [
    "from sklearn.tree import DecisionTreeClassifier\n",
    "from sklearn.model_selection import StratifiedKFold"
   ]
  },
  {
   "cell_type": "markdown",
   "metadata": {},
   "source": [
    "### 2.1 y 2.2: Arbol de decision con altura maxima 3 y el resto de parametros en default"
   ]
  },
  {
   "cell_type": "code",
   "execution_count": 10,
   "metadata": {},
   "outputs": [],
   "source": [
    "from sklearn.metrics import accuracy_score, roc_auc_score, precision_recall_curve, auc"
   ]
  },
  {
   "cell_type": "code",
   "execution_count": 11,
   "metadata": {},
   "outputs": [],
   "source": [
    "arbol = DecisionTreeClassifier(max_depth=3)"
   ]
  },
  {
   "cell_type": "code",
   "execution_count": 12,
   "metadata": {},
   "outputs": [],
   "source": [
    "def test_train_split_by_index(X: pd.DataFrame, y: pd.Series, \n",
    "                              train_index: np.ndarray, test_index = np.ndarray)-> Tuple[pd.DataFrame, pd.Series, \n",
    "                                                                                        pd.DataFrame, pd.Series]:\n",
    "    \n",
    "    X_train_folds = X.iloc[train_index]\n",
    "    y_train_folds = y.iloc[train_index]\n",
    "\n",
    "    X_test_fold = X.iloc[test_index]\n",
    "    y_test_fold = y.iloc[test_index]\n",
    "\n",
    "    return X_train_folds, y_train_folds, X_test_fold, y_test_fold\n",
    "\n",
    "def calculate_auprc(y: pd.Series, y_predicted_prob: pd.Series)-> int:\n",
    "\n",
    "    precision, recall, _ = precision_recall_curve(y, y_predicted_prob)\n",
    "    auprc = auc(recall, precision)\n",
    "\n",
    "    return auprc\n",
    "\n",
    "def kfold_metrics(arbol: DecisionTreeClassifier, X: pd.DataFrame, y: pd.Series, skf: StratifiedKFold):\n",
    "\n",
    "    metrics_by_fold = []\n",
    "\n",
    "    total_y_test_predicted = []\n",
    "    total_y_test_predicted_prob = []\n",
    "    total_y_test_true = []\n",
    "\n",
    "    for (train_index, test_index) in skf.split(X, y):\n",
    "\n",
    "        # Create i Fold train and test sets\n",
    "        X_train_folds,y_train_folds, X_test_fold,y_test_fold = test_train_split_by_index(X,y,train_index, test_index)\n",
    "\n",
    "        # fit\n",
    "        arbol.fit(X_train_folds,y_train_folds)\n",
    "\n",
    "        # predictions\n",
    "        y_train_folds_predicted = arbol.predict(X_train_folds)\n",
    "        y_test_fold_predicted = arbol.predict(X_test_fold)\n",
    "\n",
    "        # prediction probability for positive class\n",
    "        y_train_folds_predicted_prob = arbol.predict_proba(X_train_folds)[:,1]\n",
    "        y_test_fold_predicted_prob = arbol.predict_proba(X_test_fold)[:,1]\n",
    "\n",
    "        # concatenate prediction\n",
    "        total_y_test_predicted += list(y_test_fold_predicted)\n",
    "        total_y_test_predicted_prob += list(y_test_fold_predicted_prob)\n",
    "        total_y_test_true += list(y_test_fold)\n",
    "\n",
    "        # accuracy\n",
    "        train_folds_accuracy = accuracy_score(y_train_folds, y_train_folds_predicted)\n",
    "        test_fold_accuracy = accuracy_score(y_test_fold, y_test_fold_predicted)\n",
    "\n",
    "        # aupcr\n",
    "        train_folds_auprc = calculate_auprc(y_train_folds, y_train_folds_predicted_prob)\n",
    "        test_fold_auprc = calculate_auprc(y_test_fold, y_test_fold_predicted_prob)\n",
    "\n",
    "        # auroc\n",
    "        train_folds_auroc = roc_auc_score(y_train_folds, y_train_folds_predicted)\n",
    "        test_fold_auroc = roc_auc_score(y_test_fold, y_test_fold_predicted)\n",
    "        \n",
    "        metrics_by_fold.append([\n",
    "            train_folds_accuracy,\n",
    "            test_fold_accuracy,\n",
    "            train_folds_auprc,\n",
    "            test_fold_auprc,\n",
    "            train_folds_auroc,\n",
    "            test_fold_auroc\n",
    "        ])\n",
    "\n",
    "    metrics_by_fold = np.array(metrics_by_fold)\n",
    "    metrics_mean = metrics_by_fold.sum(axis=0)/metrics_by_fold.shape[0]\n",
    "\n",
    "    accuracy_global = accuracy_score(total_y_test_true, total_y_test_predicted)\n",
    "    auprc_global = calculate_auprc(total_y_test_true, total_y_test_predicted_prob)\n",
    "    auroc_global = roc_auc_score(total_y_test_true, total_y_test_predicted)\n",
    "\n",
    "    metrics_global = [accuracy_global, auprc_global, auroc_global]\n",
    "\n",
    "    return metrics_by_fold, metrics_mean, metrics_global\n",
    "\n",
    "skf = StratifiedKFold(n_splits=5, shuffle=True, random_state=24)\n",
    "\n",
    "metrics_by_fold, metrics_mean, metrics_global = kfold_metrics(arbol, X_desarrollo, y_desarrollo, skf)"
   ]
  },
  {
   "cell_type": "code",
   "execution_count": 13,
   "metadata": {},
   "outputs": [
    {
     "data": {
      "text/html": [
       "<div>\n",
       "<style scoped>\n",
       "    .dataframe tbody tr th:only-of-type {\n",
       "        vertical-align: middle;\n",
       "    }\n",
       "\n",
       "    .dataframe tbody tr th {\n",
       "        vertical-align: top;\n",
       "    }\n",
       "\n",
       "    .dataframe thead th {\n",
       "        text-align: right;\n",
       "    }\n",
       "</style>\n",
       "<table border=\"1\" class=\"dataframe\">\n",
       "  <thead>\n",
       "    <tr style=\"text-align: right;\">\n",
       "      <th></th>\n",
       "      <th>Accuracy (training)</th>\n",
       "      <th>Accuracy (validación)</th>\n",
       "      <th>AUPRC (training)</th>\n",
       "      <th>AUPRC (validación)</th>\n",
       "      <th>AUC ROC (training)</th>\n",
       "      <th>AUC ROC (validación)</th>\n",
       "    </tr>\n",
       "  </thead>\n",
       "  <tbody>\n",
       "    <tr>\n",
       "      <th>1</th>\n",
       "      <td>0.843750</td>\n",
       "      <td>0.6500</td>\n",
       "      <td>0.738951</td>\n",
       "      <td>0.290850</td>\n",
       "      <td>0.781135</td>\n",
       "      <td>0.517353</td>\n",
       "    </tr>\n",
       "    <tr>\n",
       "      <th>2</th>\n",
       "      <td>0.846875</td>\n",
       "      <td>0.7625</td>\n",
       "      <td>0.740279</td>\n",
       "      <td>0.477823</td>\n",
       "      <td>0.722016</td>\n",
       "      <td>0.624294</td>\n",
       "    </tr>\n",
       "    <tr>\n",
       "      <th>3</th>\n",
       "      <td>0.859375</td>\n",
       "      <td>0.7375</td>\n",
       "      <td>0.763410</td>\n",
       "      <td>0.350884</td>\n",
       "      <td>0.737600</td>\n",
       "      <td>0.558333</td>\n",
       "    </tr>\n",
       "    <tr>\n",
       "      <th>4</th>\n",
       "      <td>0.843750</td>\n",
       "      <td>0.7125</td>\n",
       "      <td>0.719764</td>\n",
       "      <td>0.338095</td>\n",
       "      <td>0.699119</td>\n",
       "      <td>0.525000</td>\n",
       "    </tr>\n",
       "    <tr>\n",
       "      <th>5</th>\n",
       "      <td>0.853125</td>\n",
       "      <td>0.7250</td>\n",
       "      <td>0.743859</td>\n",
       "      <td>0.428968</td>\n",
       "      <td>0.781359</td>\n",
       "      <td>0.600000</td>\n",
       "    </tr>\n",
       "    <tr>\n",
       "      <th>Promedio</th>\n",
       "      <td>0.849375</td>\n",
       "      <td>0.7175</td>\n",
       "      <td>0.741253</td>\n",
       "      <td>0.377324</td>\n",
       "      <td>0.744246</td>\n",
       "      <td>0.564996</td>\n",
       "    </tr>\n",
       "    <tr>\n",
       "      <th>Global</th>\n",
       "      <td>NaN</td>\n",
       "      <td>0.7175</td>\n",
       "      <td>NaN</td>\n",
       "      <td>0.331763</td>\n",
       "      <td>NaN</td>\n",
       "      <td>0.565370</td>\n",
       "    </tr>\n",
       "  </tbody>\n",
       "</table>\n",
       "</div>"
      ],
      "text/plain": [
       "          Accuracy (training)  Accuracy (validación)  AUPRC (training)  \\\n",
       "1                    0.843750                 0.6500          0.738951   \n",
       "2                    0.846875                 0.7625          0.740279   \n",
       "3                    0.859375                 0.7375          0.763410   \n",
       "4                    0.843750                 0.7125          0.719764   \n",
       "5                    0.853125                 0.7250          0.743859   \n",
       "Promedio             0.849375                 0.7175          0.741253   \n",
       "Global                    NaN                 0.7175               NaN   \n",
       "\n",
       "          AUPRC (validación)  AUC ROC (training)  AUC ROC (validación)  \n",
       "1                   0.290850            0.781135              0.517353  \n",
       "2                   0.477823            0.722016              0.624294  \n",
       "3                   0.350884            0.737600              0.558333  \n",
       "4                   0.338095            0.699119              0.525000  \n",
       "5                   0.428968            0.781359              0.600000  \n",
       "Promedio            0.377324            0.744246              0.564996  \n",
       "Global              0.331763                 NaN              0.565370  "
      ]
     },
     "execution_count": 13,
     "metadata": {},
     "output_type": "execute_result"
    }
   ],
   "source": [
    "datos = {'Accuracy (training)': metrics_by_fold[:,0],\n",
    "        'Accuracy (validación)': metrics_by_fold[:,1],\n",
    "        'AUPRC (training)': metrics_by_fold[:,2], \n",
    "        'AUPRC (validación)': metrics_by_fold[:,3],\n",
    "        'AUC ROC (training)': metrics_by_fold[:,4], \n",
    "        'AUC ROC (validación)': metrics_by_fold[:,5]}\n",
    "\n",
    "indice=['1','2','3','4','5']\n",
    "resultados = pd.DataFrame(datos, index = indice)\n",
    "resultados.loc['Promedio'] = metrics_mean.tolist()\n",
    "resultados.loc['Global'] = [math.nan , metrics_global[0],\n",
    "                            math.nan , metrics_global[1],\n",
    "                            math.nan , metrics_global[2]]\n",
    "\n",
    "resultados"
   ]
  },
  {
   "cell_type": "markdown",
   "metadata": {},
   "source": [
    "### 2.3: Parameter grid\n",
    "Tomamos al accuracy en training como el promedio de los accuracy de training de cada fold"
   ]
  },
  {
   "cell_type": "code",
   "execution_count": 14,
   "metadata": {},
   "outputs": [],
   "source": [
    "from sklearn.model_selection import ParameterGrid"
   ]
  },
  {
   "cell_type": "code",
   "execution_count": 15,
   "metadata": {},
   "outputs": [],
   "source": [
    "def calculate_grid_accuracy(X: pd.DataFrame, y: pd.Series, param_grid: dict):\n",
    "\n",
    "    accuracies_train = []\n",
    "    accuracies_test = []\n",
    "\n",
    "    for param in ParameterGrid(param_grid):\n",
    "\n",
    "        arbol = DecisionTreeClassifier(criterion=param[\"criterion\"], max_depth=param[\"max_depth\"])\n",
    "\n",
    "        total_y_train_predicted = []\n",
    "        total_y_train_true = []\n",
    "\n",
    "        total_y_test_predicted = []\n",
    "        total_y_test_true = []\n",
    "\n",
    "        for (train_index, test_index) in skf.split(X, y):\n",
    "\n",
    "            # Create i Fold train and test sets\n",
    "            X_train_folds,y_train_folds, X_test_fold,y_test_fold = test_train_split_by_index(X, y,\n",
    "                                                                                            train_index, test_index)\n",
    "\n",
    "            # fit\n",
    "            arbol.fit(X_train_folds,y_train_folds)\n",
    "\n",
    "            # predictions\n",
    "            y_train_folds_predicted = arbol.predict(X_train_folds)\n",
    "            y_test_fold_predicted = arbol.predict(X_test_fold)\n",
    "\n",
    "            # concatenate prediction\n",
    "            total_y_train_predicted += list(y_train_folds_predicted)\n",
    "            total_y_train_true += list(y_train_folds)\n",
    "\n",
    "            total_y_test_predicted += list(y_test_fold_predicted)\n",
    "            total_y_test_true += list(y_test_fold)\n",
    "\n",
    "        accuracy_train_global = accuracy_score(total_y_train_true, total_y_train_predicted)\n",
    "        accuracy_test_global = accuracy_score(total_y_test_true, total_y_test_predicted)\n",
    "\n",
    "        accuracies_train.append(accuracy_train_global)\n",
    "        accuracies_test.append(accuracy_test_global)\n",
    "\n",
    "    return accuracies_train, accuracies_test\n",
    "\n",
    "param_grid = {\"criterion\": [\"gini\",\"entropy\"], \"max_depth\": [3, 5, None]}\n",
    "\n",
    "accuracies_train, accuracies_test = calculate_grid_accuracy(X_desarrollo, y_desarrollo, param_grid)"
   ]
  },
  {
   "cell_type": "code",
   "execution_count": 16,
   "metadata": {},
   "outputs": [
    {
     "data": {
      "text/html": [
       "<div>\n",
       "<style scoped>\n",
       "    .dataframe tbody tr th:only-of-type {\n",
       "        vertical-align: middle;\n",
       "    }\n",
       "\n",
       "    .dataframe tbody tr th {\n",
       "        vertical-align: top;\n",
       "    }\n",
       "\n",
       "    .dataframe thead th {\n",
       "        text-align: right;\n",
       "    }\n",
       "</style>\n",
       "<table border=\"1\" class=\"dataframe\">\n",
       "  <thead>\n",
       "    <tr style=\"text-align: right;\">\n",
       "      <th></th>\n",
       "      <th>Altura máxima</th>\n",
       "      <th>Criterio de corte</th>\n",
       "      <th>Accuracy (training)</th>\n",
       "      <th>Accuracy (validación)</th>\n",
       "    </tr>\n",
       "  </thead>\n",
       "  <tbody>\n",
       "    <tr>\n",
       "      <th>0</th>\n",
       "      <td>3</td>\n",
       "      <td>Gini</td>\n",
       "      <td>0.849375</td>\n",
       "      <td>0.7125</td>\n",
       "    </tr>\n",
       "    <tr>\n",
       "      <th>1</th>\n",
       "      <td>5</td>\n",
       "      <td>Gini</td>\n",
       "      <td>0.926875</td>\n",
       "      <td>0.6925</td>\n",
       "    </tr>\n",
       "    <tr>\n",
       "      <th>2</th>\n",
       "      <td>Infinito</td>\n",
       "      <td>Gini</td>\n",
       "      <td>1.000000</td>\n",
       "      <td>0.6550</td>\n",
       "    </tr>\n",
       "    <tr>\n",
       "      <th>3</th>\n",
       "      <td>3</td>\n",
       "      <td>Entropía</td>\n",
       "      <td>0.810625</td>\n",
       "      <td>0.7125</td>\n",
       "    </tr>\n",
       "    <tr>\n",
       "      <th>4</th>\n",
       "      <td>5</td>\n",
       "      <td>Entropía</td>\n",
       "      <td>0.893750</td>\n",
       "      <td>0.6900</td>\n",
       "    </tr>\n",
       "    <tr>\n",
       "      <th>5</th>\n",
       "      <td>Infinito</td>\n",
       "      <td>Entropía</td>\n",
       "      <td>1.000000</td>\n",
       "      <td>0.6750</td>\n",
       "    </tr>\n",
       "  </tbody>\n",
       "</table>\n",
       "</div>"
      ],
      "text/plain": [
       "  Altura máxima Criterio de corte  Accuracy (training)  Accuracy (validación)\n",
       "0             3              Gini             0.849375                 0.7125\n",
       "1             5              Gini             0.926875                 0.6925\n",
       "2      Infinito              Gini             1.000000                 0.6550\n",
       "3             3          Entropía             0.810625                 0.7125\n",
       "4             5          Entropía             0.893750                 0.6900\n",
       "5      Infinito          Entropía             1.000000                 0.6750"
      ]
     },
     "execution_count": 16,
     "metadata": {},
     "output_type": "execute_result"
    }
   ],
   "source": [
    "resultado = pd.DataFrame(columns=['Altura máxima', 'Criterio de corte', 'Accuracy (training)', 'Accuracy (validación)'])\n",
    "\n",
    "resultado['Altura máxima'] = [3,5,\"Infinito\",3,5,\"Infinito\"]\n",
    "resultado['Criterio de corte'] = [\"Gini\",\"Gini\",\"Gini\",\"Entropía\",\"Entropía\",\"Entropía\"]\n",
    "resultado['Accuracy (training)'] = accuracies_train\n",
    "resultado['Accuracy (validación)'] = accuracies_test\n",
    "\n",
    "resultado"
   ]
  },
  {
   "cell_type": "markdown",
   "metadata": {},
   "source": [
    "## Ejercicio 3\n",
    "\n",
    "### Comparación de algoritmos \n",
    "\n",
    "Se pide explorar distintas combinaciones de algoritmos de aprendizaje con diferentes configuraciones con el objetivo de **encontrar el mejor modelo** de cada familia de buscar la performance óptima. Para este ejercicio realizar una experimentación utilizando [`RandomizedSearchCV`](https://scikit-learn.org/stable/modules/generated/sklearn.model_selection.RandomizedSearchCV.html). Como métrica de performance usar AUCROC resultante de 5-fold cross-validation. \n",
    "\n",
    "Hiperparámetros_: Revisar la documentación de cada uno de los hiperparámetros para entender qué posibles hiperparámetros impacten de manera positiva en la construcción del algoritmo.\n",
    "\n",
    "Documentación extra sobre [`Tuning hyper-parameters`](https://scikit-learn.org/stable/modules/grid_search.html), leer hasta 3.2.2.\n",
    "\n",
    "1. Algoritmos a probar: \n",
    "  - Árboles de decisión. Mínimo 4 hiperparámetros.\n",
    "  - KNN (k-vecinos más cercanos). Mínimo 3 hiperparámetros.\n",
    "  - SVM (Support vector machine). Mínimo 2 hiperparámetros.\n",
    "\n",
    "Detallar los hiperparámetros elegidos para cada algoritmo y explicar la razón del espacio de búsqueda considerado para cada uno de estos, ¿cuántas iteraciones usaron?. A su vez, reportar la performance asociada de aquellos que consideren relevantes (al menos la mejor combinación para cada algoritmo). \n",
    "\n",
    "2. Compare los resultados obtenidos en el ejercicio anterior con los siguientes modelos con sus hiperparámetros default. \n",
    "\n",
    "  - LDA (Linear discriminant analysis)\n",
    "  - Naïve Bayes\n",
    "\n",
    "¿Qué resultados obtuvo? ¿Qué hiperparámetros podrían ser relevantes explorar en estos modelos? ¿Por qué?\n",
    "\n",
    "3. ¿Cuál fue el mejor modelo y con qué configuración? Explicar por qué creería que dio mejor (recordando qué hace cada algoritmo y con qué tipo de datos están trabajando)."
   ]
  },
  {
   "cell_type": "code",
   "execution_count": 17,
   "metadata": {},
   "outputs": [],
   "source": [
    "from sklearn.model_selection import RandomizedSearchCV"
   ]
  },
  {
   "cell_type": "code",
   "execution_count": 58,
   "metadata": {},
   "outputs": [],
   "source": [
    "def exersice_3_experiment(predictor_class, param_grid, n_iter, random_state):\n",
    "\n",
    "    skf = StratifiedKFold(n_splits=5, shuffle=True, random_state=24)\n",
    "\n",
    "    random_search = RandomizedSearchCV(predictor_class(), param_grid, n_iter=n_iter, cv=skf, scoring=\"roc_auc\", random_state=24)\n",
    "\n",
    "    random_search.fit(X_desarrollo, y_desarrollo)\n",
    "\n",
    "    print(f\"best parameters {random_search.best_params_}\")\n",
    "    print(f\"best score: {random_search.best_score_}\")"
   ]
  },
  {
   "cell_type": "markdown",
   "metadata": {},
   "source": [
    "## 3.1\n",
    "\n",
    "### Arbol de decision\n",
    "\n",
    "- max_depth: hasta el rango maximo posible limitado por las 500 instancias (500 < 2**9)\n",
    "- min_samples_leaf:  "
   ]
  },
  {
   "cell_type": "code",
   "execution_count": 73,
   "metadata": {},
   "outputs": [],
   "source": [
    "from scipy.stats import uniform"
   ]
  },
  {
   "cell_type": "code",
   "execution_count": 77,
   "metadata": {},
   "outputs": [
    {
     "name": "stdout",
     "output_type": "stream",
     "text": [
      "best parameters {'criterion': 'entropy', 'max_depth': None, 'max_features': np.float64(0.10894234095537558), 'min_samples_leaf': 34}\n",
      "best score: 0.6806943099273607\n"
     ]
    }
   ],
   "source": [
    "param_grid = {\n",
    "    \"max_depth\": list(np.arange(9)+1) + [None],\n",
    "    \"min_samples_leaf\": [1,2,3,5,8,13,21,34,55],\n",
    "    \"max_features\": uniform(loc=0, scale=1),\n",
    "    \"criterion\": [\"gini\", \"entropy\"]\n",
    "}\n",
    "\n",
    "n_iter = 100\n",
    "\n",
    "exersice_3_experiment(DecisionTreeClassifier,param_grid,n_iter, random_state=1515)\n"
   ]
  },
  {
   "cell_type": "markdown",
   "metadata": {},
   "source": [
    "### KNN"
   ]
  },
  {
   "cell_type": "code",
   "execution_count": 78,
   "metadata": {},
   "outputs": [],
   "source": [
    "from sklearn.neighbors import KNeighborsClassifier"
   ]
  },
  {
   "cell_type": "code",
   "execution_count": 81,
   "metadata": {},
   "outputs": [
    {
     "name": "stdout",
     "output_type": "stream",
     "text": [
      "best parameters {'n_neighbors': 13, 'p': np.float64(1.143036705883902), 'weights': 'distance'}\n",
      "best score: 0.8114309927360775\n"
     ]
    }
   ],
   "source": [
    "param_grid = {\n",
    "    \"n_neighbors\": [1,2,3,5,8,13,21,34,55],\n",
    "    \"weights\": [\"uniform\",\"distance\"],\n",
    "    \"p\": uniform(loc=1, scale=1),\n",
    "}\n",
    "\n",
    "n_iter = 50\n",
    "\n",
    "exersice_3_experiment(KNeighborsClassifier,param_grid,n_iter,random_state=24)"
   ]
  },
  {
   "cell_type": "markdown",
   "metadata": {},
   "source": [
    "### SVM"
   ]
  },
  {
   "cell_type": "code",
   "execution_count": 52,
   "metadata": {},
   "outputs": [],
   "source": [
    "from sklearn.svm import LinearSVC, SVC"
   ]
  },
  {
   "cell_type": "code",
   "execution_count": 62,
   "metadata": {},
   "outputs": [
    {
     "name": "stdout",
     "output_type": "stream",
     "text": [
      "best parameters {'penalty': 'l2', 'max_iter': 100000, 'C': 10}\n",
      "best score: 0.6906109765940275\n"
     ]
    }
   ],
   "source": [
    "param_grid = {\n",
    "    \"C\": [1,3,5,10],\n",
    "    \"penalty\": ['l1','l2'],\n",
    "    \"max_iter\": [100000]\n",
    "}\n",
    "\n",
    "n_iter = 5\n",
    "\n",
    "exersice_3_experiment(LinearSVC,param_grid,n_iter,random_state=24)"
   ]
  },
  {
   "cell_type": "code",
   "execution_count": 84,
   "metadata": {},
   "outputs": [
    {
     "name": "stdout",
     "output_type": "stream",
     "text": [
      "best parameters {'kernel': 'poly', 'degree': 2, 'C': 2}\n",
      "best score: 0.8427994350282486\n"
     ]
    }
   ],
   "source": [
    "param_grid = {\n",
    "    \"C\": [1,2,3,5,8,13],\n",
    "    \"kernel\": ['linear','poly'],\n",
    "    \"degree\": [1,2,3,4,5]\n",
    "}\n",
    "\n",
    "n_iter = 25\n",
    "\n",
    "exersice_3_experiment(SVC,param_grid,n_iter,random_state=24)"
   ]
  },
  {
   "cell_type": "markdown",
   "metadata": {},
   "source": [
    "## 3.2\n",
    "\n",
    "### LDA"
   ]
  },
  {
   "cell_type": "code",
   "execution_count": 57,
   "metadata": {},
   "outputs": [],
   "source": [
    "from sklearn.discriminant_analysis import LinearDiscriminantAnalysis"
   ]
  },
  {
   "cell_type": "code",
   "execution_count": 87,
   "metadata": {},
   "outputs": [
    {
     "name": "stdout",
     "output_type": "stream",
     "text": [
      "best parameters {}\n",
      "best score: 0.6957146892655366\n"
     ]
    }
   ],
   "source": [
    "param_grid = {}\n",
    "n_iter = 1\n",
    "exersice_3_experiment(LinearDiscriminantAnalysis,param_grid,n_iter,random_state=24)"
   ]
  },
  {
   "cell_type": "markdown",
   "metadata": {},
   "source": [
    "### Naive Bayes"
   ]
  },
  {
   "cell_type": "code",
   "execution_count": 89,
   "metadata": {},
   "outputs": [],
   "source": [
    "from sklearn.naive_bayes import GaussianNB"
   ]
  },
  {
   "cell_type": "code",
   "execution_count": 90,
   "metadata": {},
   "outputs": [
    {
     "name": "stdout",
     "output_type": "stream",
     "text": [
      "best parameters {}\n",
      "best score: 0.7809144471347861\n"
     ]
    }
   ],
   "source": [
    "param_grid = {}\n",
    "n_iter = 1\n",
    "exersice_3_experiment(GaussianNB,param_grid,n_iter,random_state=24)"
   ]
  },
  {
   "cell_type": "markdown",
   "metadata": {},
   "source": [
    "## Ejercicio 4\n",
    "### Diagnóstico Sesgo-Varianza.\n",
    "\n",
    "<span style=\"color: red;\">(no realizar hasta la clase _Sesgo y Varianza_)</span>\n",
    "\n",
    "En este punto, se pide inspeccionar **tres** de sus mejores modelos encontrados hasta ahora de cada familia de modelos: la mejor configuración para el árbol de decisión y la mejor configuración para SVM. Para ello:\n",
    "\n",
    "1. Graficar curvas de complejidad para cada modelo, variando la profundidad en el caso de árboles, y el hiperparámetro C en el caso de SVM. Diagnosticar cómo afectan al sesgo y a la varianza esos dos hiperparámetros.\n",
    "2. Graficar curvas de aprendizaje para cada modelo pero ahora incluya LDA. En base a estas curvas, sacar conclusiones sobre si los algoritmos parecen haber alcanzado su límite, o bien si aumentar la cantidad de datos debería ayudar.\n",
    "3. Construir un modelo **RandomForest** con 200 árboles. Explorar para qué sirve el hiperparámetro max_features y cómo afecta a la performance del algoritmo mediante una curva de complejidad. Explicar por qué creen que se dieron los resultados obtenidos. Por último, graficar una curva de aprendizaje sobre los parámetros elegidos para determinar si sería útil o no conseguir más datos.\n",
    "\n",
    "\n",
    "**Atención**: Tener en cuenta que debemos seguir utilizando AUC ROC como métrica para estas curvas.\n"
   ]
  },
  {
   "cell_type": "markdown",
   "metadata": {},
   "source": [
    "## Ejercicio 5: \n",
    "### Evaluación de performance\n",
    "\n",
    "- La entrega del trabajo estará acompañada de una evaluación en la cual deberán poner a prueba su mejor modelo y sobre todo, su capacidad para estimar sus resultados. \n",
    "\n",
    "- Su tarea será estimar la performance (AUCROC) que tendrá su mejor modelo en datos de evaluación (X_held_out). \n",
    "\n",
    "- Para ello, deberán predecir las **probabilidades** de las distintas instancias con su modelo, enviarnos dichas probabilidades junto a una estimación con 4 decimales de cuál será el AUCROC resultante y calcularemos el resultado real. Consideraremos que el **mejor modelo será el que se encuentre más cerca del valor real que calcularemos luego de la entrega**.\n",
    "\n",
    "- Recomendamos no perder de vista esta evaluación/competencia durante el desarrollo del TP, sobretodo en el momento de separar los datos en los primeros puntos. \n",
    "\n",
    "- Para que podamos evaluar la performance, junto con la entrega del informe, deberán enviar un archivo con el numero de grupo con dos digitos en formato csv con la columna `output` y el valor obtenido con 4 decimales (se subirá un ejemplo cuando se publiquen los datos de la competencia) y un valor esperado de AUCROC: `GG_y_pred_held_out_AUCROC`. \n",
    "\n",
    "    - Ej.: el grupo tres cree que obtuvo un valor de 0.7321 de AUCROC deberá submitear un archivo llamado: `03_y_pred_held_out_7321.csv`.\n",
    "\n",
    "- Los datos podrán encontrarlos en este [link](https://github.com/aprendizaje-automatico-dc-uba-ar/material/tree/main/tp/01_aprendizaje_supervisado/datos).\n",
    "\n",
    "- Las decisiones de este punto pueden desarrollarse hasta en una carilla, aunque con media debería alcanzar.\n"
   ]
  },
  {
   "cell_type": "markdown",
   "metadata": {},
   "source": [
    "## Ejercicio 6: \n",
    "### Conclusiones\n",
    "\n",
    "Escribir como mínimo en un párrafo, una conclusión del trabajo realizado, incluyendo problemas encontrados y \n",
    "aspectos no incluidos en el enunciado que hayan sido abordadas durante el desarrollo."
   ]
  },
  {
   "cell_type": "markdown",
   "metadata": {},
   "source": [
    "---\n",
    "## Entregables\n",
    "- Contarán con un esqueleto en formato Jupyter Notebook en donde podrán intercalar celdas para reportar y responder a los ítems de cada ejercicio. \n",
    "- Los entregrables serán\n",
    "    - Un informe en formato .pdf (**digital**) que responda a los ítems de este enunciado respetando la cantidad de espacio máximo por cada ítem. Nombrarlo siguiendo el formato `GG_Nombre_de_grupo`\n",
    "    - Adjuntar el notebook final en formatos .pdf e .ipynb. Es necesario que los resultados puedan reproducirse al ejecutar todas las celdas en orden (verificarlo haceindo: Kernel -> Restart and Run All). \n",
    "    - Las predicciones del *held out* del punto 5 en formato csv.\n",
    "- Habŕa una entrega intermedia obligatoria que deberán hacer antes del 01 de octubre de 2024 a las 23:55hs. Para esta entrega deberán enviar el código que resuelve los primeros 3 ejercicios. \n",
    "- La **fecha** y **hora límite** de entrega está determinada en el campus de la materia.\n",
    "- El trabajo deberá elaborarse en grupos de hasta 3 personas (3 preferentemente).\n",
    "- Se podrán pedir pruebas de integridad y autoría; es decir, verificar que la salida solicitada es fruto del modelo presentado y que el modelo fue construido según lo requerido en este enunciado.\n",
    "- La evaluación será grupal y se basará en la calidad del informe (presentación, claridad, prolijidad); la originalidad, practicidad y coherencia técnica de la solución; la corrección y solidez de las pruebas realizadas.\n"
   ]
  },
  {
   "cell_type": "markdown",
   "metadata": {},
   "source": [
    "### Importante: sobre el uso de ChatGPT y grandes modelos de lenguaje\n",
    "\n",
    "En este trabajo no estará explícitamente prohibido pero si fuertemente desaconsejado, consideramos a este trabajo práctico una importante herramienta de aprendizaje donde el uso de GPT puede ser perjudicial. En caso de usarlo se pide aclararlo en el informe y especificar cómo y en donde se utilizó. Así como expresar su opinión sobre la respuesta generada por el modelo pudiendo estar a favor o en contra de lo propuesto por este. Pueden adjuntar el link a la conversación con el modelo."
   ]
  },
  {
   "cell_type": "markdown",
   "metadata": {},
   "source": [
    "**Nota**: Agradecemos a [Martín García Sola](https://ar.linkedin.com/in/martin-e-garcia-sola) por la asistencia biológica en la confección de este Trabajo Práctico."
   ]
  }
 ],
 "metadata": {
  "kernelspec": {
   "display_name": "Python 3 (ipykernel)",
   "language": "python",
   "name": "python3"
  },
  "language_info": {
   "codemirror_mode": {
    "name": "ipython",
    "version": 3
   },
   "file_extension": ".py",
   "mimetype": "text/x-python",
   "name": "python",
   "nbconvert_exporter": "python",
   "pygments_lexer": "ipython3",
   "version": "3.12.6"
  }
 },
 "nbformat": 4,
 "nbformat_minor": 4
}
